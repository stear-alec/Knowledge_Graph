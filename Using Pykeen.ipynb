{
 "cells": [
  {
   "cell_type": "code",
   "execution_count": 2,
   "id": "2af003a4",
   "metadata": {
    "scrolled": true
   },
   "outputs": [
    {
     "name": "stdout",
     "output_type": "stream",
     "text": [
      "Collecting pykeen\n",
      "  Downloading pykeen-1.10.1-py3-none-any.whl (739 kB)\n",
      "\u001b[2K     \u001b[90m━━━━━━━━━━━━━━━━━━━━━━━━━━━━━━━━━━━━━━━\u001b[0m \u001b[32m739.3/739.3 kB\u001b[0m \u001b[31m3.0 MB/s\u001b[0m eta \u001b[36m0:00:00\u001b[0ma \u001b[36m0:00:01\u001b[0m\n",
      "\u001b[?25hCollecting more-click\n",
      "  Downloading more_click-0.1.2-py3-none-any.whl (6.7 kB)\n",
      "Collecting optuna>=2.0.0\n",
      "  Downloading optuna-3.5.0-py3-none-any.whl (413 kB)\n",
      "\u001b[2K     \u001b[90m━━━━━━━━━━━━━━━━━━━━━━━━━━━━━━━━━━━━━━━\u001b[0m \u001b[32m413.4/413.4 kB\u001b[0m \u001b[31m3.7 MB/s\u001b[0m eta \u001b[36m0:00:00\u001b[0ma \u001b[36m0:00:01\u001b[0m\n",
      "\u001b[?25hRequirement already satisfied: typing-extensions in /Users/alecstear/anaconda3/lib/python3.10/site-packages (from pykeen) (4.8.0)\n",
      "Collecting more-itertools\n",
      "  Downloading more_itertools-10.1.0-py3-none-any.whl (55 kB)\n",
      "\u001b[2K     \u001b[90m━━━━━━━━━━━━━━━━━━━━━━━━━━━━━━━━━━━━━━━━\u001b[0m \u001b[32m55.8/55.8 kB\u001b[0m \u001b[31m2.9 MB/s\u001b[0m eta \u001b[36m0:00:00\u001b[0m\n",
      "\u001b[?25hRequirement already satisfied: scikit-learn in /Users/alecstear/anaconda3/lib/python3.10/site-packages (from pykeen) (1.2.1)\n",
      "Collecting torch-max-mem>=0.0.4\n",
      "  Downloading torch_max_mem-0.1.3-py3-none-any.whl (10 kB)\n",
      "Collecting rexmex>=0.1.3\n",
      "  Downloading rexmex-0.1.3.tar.gz (21 kB)\n",
      "  Installing build dependencies ... \u001b[?25ldone\n",
      "\u001b[?25h  Getting requirements to build wheel ... \u001b[?25ldone\n",
      "\u001b[?25h  Installing backend dependencies ... \u001b[?25ldone\n",
      "\u001b[?25h  Preparing metadata (pyproject.toml) ... \u001b[?25ldone\n",
      "\u001b[?25hRequirement already satisfied: tabulate in /Users/alecstear/anaconda3/lib/python3.10/site-packages (from pykeen) (0.8.10)\n",
      "Collecting pystow>=0.4.3\n",
      "  Downloading pystow-0.5.2-py3-none-any.whl (31 kB)\n",
      "Collecting class-resolver>=0.3.10\n",
      "  Downloading class_resolver-0.4.2-py3-none-any.whl (24 kB)\n",
      "Collecting protobuf<4.0.0\n",
      "  Downloading protobuf-3.20.3-py2.py3-none-any.whl (162 kB)\n",
      "\u001b[2K     \u001b[90m━━━━━━━━━━━━━━━━━━━━━━━━━━━━━━━━━━━━━━━\u001b[0m \u001b[32m162.1/162.1 kB\u001b[0m \u001b[31m2.7 MB/s\u001b[0m eta \u001b[36m0:00:00\u001b[0ma \u001b[36m0:00:01\u001b[0m\n",
      "\u001b[?25hCollecting torch-ppr>=0.0.7\n",
      "  Downloading torch_ppr-0.0.8-py3-none-any.whl (12 kB)\n",
      "Requirement already satisfied: torch>=1.10 in /Users/alecstear/anaconda3/lib/python3.10/site-packages (from pykeen) (1.12.1)\n",
      "Requirement already satisfied: scipy>=1.7.0 in /Users/alecstear/anaconda3/lib/python3.10/site-packages (from pykeen) (1.10.0)\n",
      "Requirement already satisfied: requests in /Users/alecstear/anaconda3/lib/python3.10/site-packages (from pykeen) (2.28.1)\n",
      "Collecting dataclasses-json\n",
      "  Downloading dataclasses_json-0.6.3-py3-none-any.whl (28 kB)\n",
      "Requirement already satisfied: click in /Users/alecstear/anaconda3/lib/python3.10/site-packages (from pykeen) (8.0.4)\n",
      "Requirement already satisfied: numpy in /Users/alecstear/anaconda3/lib/python3.10/site-packages (from pykeen) (1.23.5)\n",
      "Collecting click-default-group\n",
      "  Downloading click_default_group-1.2.4-py2.py3-none-any.whl (4.1 kB)\n",
      "Requirement already satisfied: pandas>=1.0.0 in /Users/alecstear/anaconda3/lib/python3.10/site-packages (from pykeen) (1.5.3)\n",
      "Requirement already satisfied: pyyaml in /Users/alecstear/anaconda3/lib/python3.10/site-packages (from pykeen) (6.0)\n",
      "Requirement already satisfied: tqdm in /Users/alecstear/anaconda3/lib/python3.10/site-packages (from pykeen) (4.64.1)\n",
      "Collecting docdata\n",
      "  Downloading docdata-0.0.3-py3-none-any.whl (5.8 kB)\n",
      "Requirement already satisfied: packaging>=20.0 in /Users/alecstear/anaconda3/lib/python3.10/site-packages (from optuna>=2.0.0->pykeen) (22.0)\n",
      "Collecting alembic>=1.5.0\n",
      "  Downloading alembic-1.13.0-py3-none-any.whl (230 kB)\n",
      "\u001b[2K     \u001b[90m━━━━━━━━━━━━━━━━━━━━━━━━━━━━━━━━━━━━━━━\u001b[0m \u001b[32m230.6/230.6 kB\u001b[0m \u001b[31m3.3 MB/s\u001b[0m eta \u001b[36m0:00:00\u001b[0ma \u001b[36m0:00:01\u001b[0m\n",
      "\u001b[?25hCollecting colorlog\n",
      "  Downloading colorlog-6.8.0-py3-none-any.whl (11 kB)\n",
      "Requirement already satisfied: sqlalchemy>=1.3.0 in /Users/alecstear/anaconda3/lib/python3.10/site-packages (from optuna>=2.0.0->pykeen) (1.4.39)\n",
      "Requirement already satisfied: python-dateutil>=2.8.1 in /Users/alecstear/anaconda3/lib/python3.10/site-packages (from pandas>=1.0.0->pykeen) (2.8.2)\n",
      "Requirement already satisfied: pytz>=2020.1 in /Users/alecstear/anaconda3/lib/python3.10/site-packages (from pandas>=1.0.0->pykeen) (2022.7)\n",
      "Collecting torch>=1.10\n",
      "  Downloading torch-2.1.1-cp310-none-macosx_11_0_arm64.whl (59.6 MB)\n",
      "\u001b[2K     \u001b[90m━━━━━━━━━━━━━━━━━━━━━━━━━━━━━━━━━━━━━━━━\u001b[0m \u001b[32m59.6/59.6 MB\u001b[0m \u001b[31m1.9 MB/s\u001b[0m eta \u001b[36m0:00:00\u001b[0m00:01\u001b[0m00:01\u001b[0m\n",
      "\u001b[?25hRequirement already satisfied: networkx in /Users/alecstear/anaconda3/lib/python3.10/site-packages (from torch>=1.10->pykeen) (2.8.4)\n",
      "Requirement already satisfied: fsspec in /Users/alecstear/anaconda3/lib/python3.10/site-packages (from torch>=1.10->pykeen) (2022.11.0)\n",
      "Requirement already satisfied: jinja2 in /Users/alecstear/anaconda3/lib/python3.10/site-packages (from torch>=1.10->pykeen) (3.1.2)\n",
      "Requirement already satisfied: sympy in /Users/alecstear/anaconda3/lib/python3.10/site-packages (from torch>=1.10->pykeen) (1.11.1)\n",
      "Requirement already satisfied: filelock in /Users/alecstear/anaconda3/lib/python3.10/site-packages (from torch>=1.10->pykeen) (3.9.0)\n",
      "Collecting marshmallow<4.0.0,>=3.18.0\n",
      "  Downloading marshmallow-3.20.1-py3-none-any.whl (49 kB)\n",
      "\u001b[2K     \u001b[90m━━━━━━━━━━━━━━━━━━━━━━━━━━━━━━━━━━━━━━━━\u001b[0m \u001b[32m49.4/49.4 kB\u001b[0m \u001b[31m2.7 MB/s\u001b[0m eta \u001b[36m0:00:00\u001b[0m\n",
      "\u001b[?25hCollecting typing-inspect<1,>=0.4.0\n",
      "  Downloading typing_inspect-0.9.0-py3-none-any.whl (8.8 kB)\n",
      "Requirement already satisfied: idna<4,>=2.5 in /Users/alecstear/anaconda3/lib/python3.10/site-packages (from requests->pykeen) (3.4)\n",
      "Requirement already satisfied: certifi>=2017.4.17 in /Users/alecstear/anaconda3/lib/python3.10/site-packages (from requests->pykeen) (2023.11.17)\n",
      "Requirement already satisfied: charset-normalizer<3,>=2 in /Users/alecstear/anaconda3/lib/python3.10/site-packages (from requests->pykeen) (2.0.4)\n",
      "Requirement already satisfied: urllib3<1.27,>=1.21.1 in /Users/alecstear/anaconda3/lib/python3.10/site-packages (from requests->pykeen) (1.26.14)\n",
      "Requirement already satisfied: joblib>=1.1.1 in /Users/alecstear/anaconda3/lib/python3.10/site-packages (from scikit-learn->pykeen) (1.1.1)\n",
      "Requirement already satisfied: threadpoolctl>=2.0.0 in /Users/alecstear/anaconda3/lib/python3.10/site-packages (from scikit-learn->pykeen) (2.2.0)\n",
      "Collecting Mako\n",
      "  Downloading Mako-1.3.0-py3-none-any.whl (78 kB)\n",
      "\u001b[2K     \u001b[90m━━━━━━━━━━━━━━━━━━━━━━━━━━━━━━━━━━━━━━━━\u001b[0m \u001b[32m78.6/78.6 kB\u001b[0m \u001b[31m1.7 MB/s\u001b[0m eta \u001b[36m0:00:00\u001b[0ma \u001b[36m0:00:01\u001b[0m\n",
      "\u001b[?25hRequirement already satisfied: six>=1.5 in /Users/alecstear/anaconda3/lib/python3.10/site-packages (from python-dateutil>=2.8.1->pandas>=1.0.0->pykeen) (1.16.0)\n",
      "Requirement already satisfied: mypy-extensions>=0.3.0 in /Users/alecstear/anaconda3/lib/python3.10/site-packages (from typing-inspect<1,>=0.4.0->dataclasses-json->pykeen) (0.4.3)\n",
      "Requirement already satisfied: MarkupSafe>=2.0 in /Users/alecstear/anaconda3/lib/python3.10/site-packages (from jinja2->torch>=1.10->pykeen) (2.1.1)\n",
      "Requirement already satisfied: mpmath>=0.19 in /Users/alecstear/anaconda3/lib/python3.10/site-packages/mpmath-1.2.1-py3.10.egg (from sympy->torch>=1.10->pykeen) (1.2.1)\n",
      "Building wheels for collected packages: rexmex\n",
      "  Building wheel for rexmex (pyproject.toml) ... \u001b[?25ldone\n",
      "\u001b[?25h  Created wheel for rexmex: filename=rexmex-0.1.3-py3-none-any.whl size=19952 sha256=236532d249491a2cf3643a980f700e5955ed2f6572796bdc5a59e6131f808559\n",
      "  Stored in directory: /Users/alecstear/Library/Caches/pip/wheels/40/6e/d1/5d0dbb8a35b84f1aa01b8a808ea9d60ea35b2dffae066667b7\n",
      "Successfully built rexmex\n",
      "Installing collected packages: typing-inspect, protobuf, more-itertools, more-click, marshmallow, Mako, docdata, colorlog, click-default-group, class-resolver, torch, pystow, dataclasses-json, alembic, torch-max-mem, rexmex, optuna, torch-ppr, pykeen\n",
      "  Attempting uninstall: torch\n",
      "    Found existing installation: torch 1.12.1\n",
      "    Uninstalling torch-1.12.1:\n",
      "      Successfully uninstalled torch-1.12.1\n",
      "Successfully installed Mako-1.3.0 alembic-1.13.0 class-resolver-0.4.2 click-default-group-1.2.4 colorlog-6.8.0 dataclasses-json-0.6.3 docdata-0.0.3 marshmallow-3.20.1 more-click-0.1.2 more-itertools-10.1.0 optuna-3.5.0 protobuf-3.20.3 pykeen-1.10.1 pystow-0.5.2 rexmex-0.1.3 torch-2.1.1 torch-max-mem-0.1.3 torch-ppr-0.0.8 typing-inspect-0.9.0\n"
     ]
    },
    {
     "name": "stdout",
     "output_type": "stream",
     "text": [
      "Note: you may need to restart the kernel to use updated packages.\n"
     ]
    }
   ],
   "source": [
    "pip install pykeen"
   ]
  },
  {
   "cell_type": "code",
   "execution_count": 3,
   "id": "a7f1c1e9",
   "metadata": {
    "scrolled": false
   },
   "outputs": [],
   "source": [
    "import pykeen"
   ]
  },
  {
   "cell_type": "code",
   "execution_count": 4,
   "id": "687b22a3",
   "metadata": {},
   "outputs": [
    {
     "data": {
      "text/html": [
       "<table>\n",
       "<thead>\n",
       "<tr><th>Key            </th><th>Value                   </th></tr>\n",
       "</thead>\n",
       "<tbody>\n",
       "<tr><td>OS             </td><td>posix                   </td></tr>\n",
       "<tr><td>Platform       </td><td>Darwin                  </td></tr>\n",
       "<tr><td>Release        </td><td>22.5.0                  </td></tr>\n",
       "<tr><td>Time           </td><td>Tue Dec 12 11:16:15 2023</td></tr>\n",
       "<tr><td>Python         </td><td>3.10.9                  </td></tr>\n",
       "<tr><td>PyKEEN         </td><td>1.10.1                  </td></tr>\n",
       "<tr><td>PyKEEN Hash    </td><td>UNHASHED                </td></tr>\n",
       "<tr><td>PyKEEN Branch  </td><td>main                    </td></tr>\n",
       "<tr><td>PyTorch        </td><td>2.1.1                   </td></tr>\n",
       "<tr><td>CUDA Available?</td><td>false                   </td></tr>\n",
       "<tr><td>CUDA Version   </td><td>N/A                     </td></tr>\n",
       "<tr><td>cuDNN Version  </td><td>N/A                     </td></tr>\n",
       "</tbody>\n",
       "</table>"
      ],
      "text/plain": [
       "<IPython.core.display.HTML object>"
      ]
     },
     "execution_count": 4,
     "metadata": {},
     "output_type": "execute_result"
    }
   ],
   "source": [
    "pykeen.env()"
   ]
  }
 ],
 "metadata": {
  "kernelspec": {
   "display_name": "Python 3 (ipykernel)",
   "language": "python",
   "name": "python3"
  },
  "language_info": {
   "codemirror_mode": {
    "name": "ipython",
    "version": 3
   },
   "file_extension": ".py",
   "mimetype": "text/x-python",
   "name": "python",
   "nbconvert_exporter": "python",
   "pygments_lexer": "ipython3",
   "version": "3.10.9"
  }
 },
 "nbformat": 4,
 "nbformat_minor": 5
}
